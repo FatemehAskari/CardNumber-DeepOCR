{
 "cells": [
  {
   "cell_type": "code",
   "execution_count": 47,
   "metadata": {},
   "outputs": [],
   "source": [
    "import cv2\n",
    "import numpy as np\n",
    "import matplotlib.pyplot as plt\n",
    "from PIL import ImageFont, ImageDraw, Image\n",
    "import random\n",
    "import shutil\n",
    "import unicodedata\n",
    "from pathlib import Path\n",
    "import os\n"
   ]
  },
  {
   "cell_type": "code",
   "execution_count": 48,
   "metadata": {},
   "outputs": [],
   "source": [
    "new_folder_path = \"NationalCardDigits\"  # مسیر فولدر جدید برای ذخیره تصاویر با نام‌های تغییر یافته\n",
    "\n",
    "if not os.path.exists(new_folder_path):\n",
    "    os.makedirs(new_folder_path)"
   ]
  },
  {
   "cell_type": "code",
   "execution_count": 49,
   "metadata": {},
   "outputs": [
    {
     "name": "stdout",
     "output_type": "stream",
     "text": [
      "Dataset size: [1, 0, 1, 1, 1, 1, 1, 3, 0, 1]\n"
     ]
    }
   ],
   "source": [
    "def generate_data(size):\n",
    "    for digit in range(10):\n",
    "        digit_data_dir = os.path.join('NationalCardDigits', str(digit))\n",
    "        shutil.rmtree(digit_data_dir)\n",
    "        if not os.path.exists(digit_data_dir):\n",
    "            os.makedirs(digit_data_dir)\n",
    "    persian_digits = ['۰', '۱', '۲', '۳', '۴', '۵', '۶', '۷', '۸', '۹']\n",
    "    font = ImageFont.truetype('./font/Yekan.ttf', 32)\n",
    "    template = Image.open(\"./BackgroundNationalcard/aa.jpg\")\n",
    "    template_w, template_h = template.size\n",
    "    data_size = [0 for _ in range(10)]\n",
    "    for idx in range(size):\n",
    "        width, height = (48, 48)\n",
    "        template_section_x = random.randint(template_w // 5, (template_w * 4) // 5)\n",
    "        template_section_y = random.randint(template_h // 5, (template_h * 4) // 5)\n",
    "        template_section_left = template_section_x - width // 2\n",
    "        template_section_right = template_section_x + width // 2\n",
    "        template_section_top = template_section_y - height // 2\n",
    "        template_section_bottom = template_section_y + height // 2\n",
    "        image = template.crop((template_section_left, template_section_top, template_section_right, template_section_bottom))\n",
    "        label = random.randint(0, 9)\n",
    "        digit = persian_digits[label]\n",
    "        drawn = ImageDraw.Draw(image)\n",
    "\n",
    "        digit_left, digit_top, digit_right, digit_bottom = drawn.textbbox([0, 0], digit, font=font)\n",
    "        digit_width = digit_right - digit_left\n",
    "        digit_height = digit_bottom - digit_top\n",
    "        shift_x, shift_y = random.randint(-10, 10), random.randint(-10, 10)\n",
    "        digit_x = (width - digit_width) // 2 + shift_x\n",
    "        digit_y = (height - digit_height) // 2 + shift_y - 8\n",
    "\n",
    "        drawn.text((digit_x, digit_y), digit, font=font, fill=(0, 0, 0))\n",
    "\n",
    "        angle = random.randint(-10, 10)\n",
    "        image = image.rotate(angle)\n",
    "        image_array = np.array(image)\n",
    "        gaussian_p = random.random()\n",
    "        if gaussian_p < 0.5:\n",
    "            blurred_image = cv2.GaussianBlur(image_array, (15, 15), 0)\n",
    "            new_image = cv2.addWeighted(image_array, 0.5, blurred_image, 0.5, 0)\n",
    "            image = Image.fromarray(new_image)\n",
    "        noise_p = random.random()\n",
    "        if noise_p < 0.5:\n",
    "            mean = 0\n",
    "            variance = 0.5\n",
    "            sigma = np.sqrt(variance)\n",
    "            noise = np.random.normal(mean, sigma, image_array.shape)\n",
    "            noise = np.round(noise)\n",
    "            noisy_image = image_array + noise\n",
    "            noisy_image = noisy_image.astype(np.uint8)\n",
    "            image = Image.fromarray(noisy_image)\n",
    "\n",
    "        image_path = os.path.join(os.path.join('NationalCardDigits', str(label)), f'{data_size[label]}.jpg')\n",
    "        image.save(image_path)\n",
    "        data_size[label] += 1\n",
    "    print('Dataset size:', data_size)\n",
    "\n",
    "generate_data(10)"
   ]
  }
 ],
 "metadata": {
  "kernelspec": {
   "display_name": "Python 3",
   "language": "python",
   "name": "python3"
  },
  "language_info": {
   "codemirror_mode": {
    "name": "ipython",
    "version": 3
   },
   "file_extension": ".py",
   "mimetype": "text/x-python",
   "name": "python",
   "nbconvert_exporter": "python",
   "pygments_lexer": "ipython3",
   "version": "3.11.3"
  },
  "orig_nbformat": 4
 },
 "nbformat": 4,
 "nbformat_minor": 2
}
